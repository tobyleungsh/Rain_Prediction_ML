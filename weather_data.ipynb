{
 "cells": [
  {
   "cell_type": "code",
   "execution_count": 66,
   "metadata": {},
   "outputs": [
    {
     "name": "stdout",
     "output_type": "stream",
     "text": [
      "<class 'pandas.core.frame.DataFrame'>\n",
      "RangeIndex: 3658 entries, 0 to 3657\n",
      "Data columns (total 5 columns):\n",
      " #   Column    Non-Null Count  Dtype  \n",
      "---  ------    --------------  -----  \n",
      " 0   year      3658 non-null   object \n",
      " 1   month     3655 non-null   float64\n",
      " 2   day       3655 non-null   float64\n",
      " 3   temp      3655 non-null   object \n",
      " 4   complete  3655 non-null   object \n",
      "dtypes: float64(2), object(3)\n",
      "memory usage: 143.0+ KB\n"
     ]
    }
   ],
   "source": [
    "import pandas as pd\n",
    "import numpy as np \n",
    "import matplotlib.pyplot as plt\n",
    "\n",
    "df = pd.read_csv(\"/workspaces/weather/data/hk_mean_temp.csv\")\n",
    "df_wind = pd.read_csv(\"/workspaces/weather/data/hk_mean_wind_speed.csv\")\n",
    "df_humid = pd.read_csv(\"/workspaces/weather/data/hk_relative_humidity.csv\")\n",
    "df_rain = pd.read_csv(\"/workspaces/weather/data/hk_total_rainfall.csv\")\n",
    "df.info()\n",
    "\n",
    "\n"
   ]
  },
  {
   "cell_type": "code",
   "execution_count": 67,
   "metadata": {},
   "outputs": [
    {
     "data": {
      "text/html": [
       "<div>\n",
       "<style scoped>\n",
       "    .dataframe tbody tr th:only-of-type {\n",
       "        vertical-align: middle;\n",
       "    }\n",
       "\n",
       "    .dataframe tbody tr th {\n",
       "        vertical-align: top;\n",
       "    }\n",
       "\n",
       "    .dataframe thead th {\n",
       "        text-align: right;\n",
       "    }\n",
       "</style>\n",
       "<table border=\"1\" class=\"dataframe\">\n",
       "  <thead>\n",
       "    <tr style=\"text-align: right;\">\n",
       "      <th></th>\n",
       "      <th>temp</th>\n",
       "      <th>complete</th>\n",
       "      <th>date</th>\n",
       "    </tr>\n",
       "  </thead>\n",
       "  <tbody>\n",
       "    <tr>\n",
       "      <th>0</th>\n",
       "      <td>28.3</td>\n",
       "      <td>C</td>\n",
       "      <td>2014-05-30</td>\n",
       "    </tr>\n",
       "    <tr>\n",
       "      <th>1</th>\n",
       "      <td>28.6</td>\n",
       "      <td>C</td>\n",
       "      <td>2014-05-31</td>\n",
       "    </tr>\n",
       "    <tr>\n",
       "      <th>2</th>\n",
       "      <td>29.0</td>\n",
       "      <td>C</td>\n",
       "      <td>2014-06-01</td>\n",
       "    </tr>\n",
       "    <tr>\n",
       "      <th>3</th>\n",
       "      <td>28.5</td>\n",
       "      <td>C</td>\n",
       "      <td>2014-06-02</td>\n",
       "    </tr>\n",
       "    <tr>\n",
       "      <th>4</th>\n",
       "      <td>27.9</td>\n",
       "      <td>C</td>\n",
       "      <td>2014-06-03</td>\n",
       "    </tr>\n",
       "  </tbody>\n",
       "</table>\n",
       "</div>"
      ],
      "text/plain": [
       "   temp complete       date\n",
       "0  28.3        C 2014-05-30\n",
       "1  28.6        C 2014-05-31\n",
       "2  29.0        C 2014-06-01\n",
       "3  28.5        C 2014-06-02\n",
       "4  27.9        C 2014-06-03"
      ]
     },
     "execution_count": 67,
     "metadata": {},
     "output_type": "execute_result"
    }
   ],
   "source": [
    "\n",
    "df = df.drop(df[df['complete'] != \"C\"].index)\n",
    "df['date'] = df['year'] + '-' + df['month'].astype('Int64').astype(str) + '-' + df['day'].astype('Int64').astype(str)\n",
    "df['date'] = pd.to_datetime(df['date'])\n",
    "df = df.drop(['year', 'month', 'day','complete'], axis = 1)\n",
    "\n",
    "df.head()\n",
    "\n",
    "\n"
   ]
  }
 ],
 "metadata": {
  "kernelspec": {
   "display_name": "Python 3",
   "language": "python",
   "name": "python3"
  },
  "language_info": {
   "codemirror_mode": {
    "name": "ipython",
    "version": 3
   },
   "file_extension": ".py",
   "mimetype": "text/x-python",
   "name": "python",
   "nbconvert_exporter": "python",
   "pygments_lexer": "ipython3",
   "version": "3.10.13"
  }
 },
 "nbformat": 4,
 "nbformat_minor": 2
}
